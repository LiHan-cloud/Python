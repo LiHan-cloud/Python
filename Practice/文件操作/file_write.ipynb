{
 "cells": [
  {
   "cell_type": "code",
   "execution_count": 2,
   "metadata": {},
   "outputs": [],
   "source": [
    "filename = 'write.txt'\n",
    "with open(filename,'w') as file_object:\n",
    "    file_object.write('I Love You!')"
   ]
  },
  {
   "cell_type": "code",
   "execution_count": 5,
   "metadata": {},
   "outputs": [],
   "source": [
    "filename = 'write.txt'\n",
    "with open(filename,'w') as file_object:\n",
    "    file_object.write('I Love You!\\n')\n",
    "    file_object.write('I Love You!\\n')"
   ]
  },
  {
   "cell_type": "code",
   "execution_count": 6,
   "metadata": {},
   "outputs": [],
   "source": [
    "filename = 'write.txt'\n",
    "with open(filename,'a') as file_object:\n",
    "    file_object.write('Hello World!\\n')\n",
    "    file_object.write('I Love You!\\n')"
   ]
  },
  {
   "cell_type": "code",
   "execution_count": 4,
   "metadata": {},
   "outputs": [],
   "source": [
    "filename = 'write.doc'\n",
    "with open(filename,'w') as file_object:\n",
    "    file_object.write('I Love You!')"
   ]
  }
 ],
 "metadata": {
  "interpreter": {
   "hash": "d6ab3bab925f01cbfc7748dbc054a16e4c0454802fddb1821d5f91a9cf6f1196"
  },
  "kernelspec": {
   "display_name": "Python 3.9.7 ('base')",
   "language": "python",
   "name": "python3"
  },
  "language_info": {
   "codemirror_mode": {
    "name": "ipython",
    "version": 3
   },
   "file_extension": ".py",
   "mimetype": "text/x-python",
   "name": "python",
   "nbconvert_exporter": "python",
   "pygments_lexer": "ipython3",
   "version": "3.9.7"
  },
  "orig_nbformat": 4
 },
 "nbformat": 4,
 "nbformat_minor": 2
}
